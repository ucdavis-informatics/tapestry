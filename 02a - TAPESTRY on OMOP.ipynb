{
 "cells": [
  {
   "cell_type": "code",
   "execution_count": null,
   "metadata": {},
   "outputs": [],
   "source": [
    "%load_ext autoreload\n",
    "%autoreload 2"
   ]
  },
  {
   "cell_type": "markdown",
   "metadata": {},
   "source": [
    "## TDAP on OMOP prototyping\n",
    "\n",
    "This will just be an example of how to get started"
   ]
  },
  {
   "cell_type": "code",
   "execution_count": null,
   "metadata": {},
   "outputs": [],
   "source": [
    "# imports and config\n",
    "import logging\n",
    "from time import sleep\n",
    "from pathlib import Path\n",
    "import json\n",
    "from random import sample\n",
    "from multiprocessing import Pool, cpu_count\n",
    "import funcy\n",
    "from random import random, randint\n",
    "from tqdm import tqdm\n",
    "from datetime import datetime\n",
    "from dateutil.relativedelta import relativedelta\n",
    "from pprint import pprint\n",
    "\n",
    "import pandas as pd\n",
    "import numpy as np\n",
    "\n",
    "from sqlalchemy import types\n",
    "\n",
    "\n",
    "# ripy\n",
    "from piesafe import piesafe\n",
    "from ucdripydbutils import ucdripydbutils\n",
    "\n",
    "# siblings\n",
    "from tdap.tdap import (TDAPDataManagerOMOP,\n",
    "                       inject_secrets_into_config,\n",
    "                       get_concept_data,\n",
    "                       get_concept_metadata,\n",
    "                       key_time_to_period,\n",
    "                       run_omop,\n",
    "                       print_concepts, print_cleanups, print_derivations, print_extensions)\n",
    "\n",
    "import example_tdap_config as my_tdap_config\n",
    "\n",
    "# logic sibs\n",
    "from example_omop_executor import (\n",
    "    get_pop,\n",
    "    create_process_df\n",
    ")\n",
    "\n",
    "# notebook specific config\n",
    "pd.set_option('display.max_columns', None)\n",
    "pd.set_option('display.max_rows', None)\n",
    "\n",
    "# global vars\n",
    "## Variable definitions\n",
    "use_named_ad_auth_to_mssql = False"
   ]
  },
  {
   "cell_type": "code",
   "execution_count": null,
   "metadata": {},
   "outputs": [],
   "source": [
    "# set up logging\n",
    "\"\"\"\n",
    "Logging\n",
    "TDAP 2.0 is desinged to run in parallel\n",
    "Therefore logging is A LOT more complicated\n",
    "\"\"\"\n",
    "# clear out previous log file\n",
    "data_path = Path.cwd() / Path(\"log\")\n",
    "[f.unlink() for f in data_path.glob(\"*.log\") if f.is_file()]\n",
    "\n",
    "logging_config = my_tdap_config.logging_config\n",
    "logging_config['loggers']['']['level'] = 'DEBUG'\n",
    "logger_name = 'tdap_omop_logger'\n",
    "log_file_name = 'log/itdap_omop_'+datetime.now().strftime('%Y-%m-%dT%H:%M')+'.log'\n",
    "logging_config['handlers']['file']['filename'] = log_file_name\n",
    "\n",
    "# start with a logger with module name\n",
    "logger = logging.getLogger(logger_name)  # use module name\n",
    "logging.config.dictConfig(logging_config)        \n",
    "logger.info(\"Logger is configured!!!\")\n"
   ]
  },
  {
   "cell_type": "code",
   "execution_count": null,
   "metadata": {},
   "outputs": [],
   "source": [
    "# Start with new unified config file\n",
    "tdap_config_key = 'dev_omop'\n",
    "dotenv_file_path = '.env'\n",
    "dev_email = 'awriedl@ucdavis.edu'\n",
    "tdap_config = my_tdap_config.tdap_configs.get(tdap_config_key)\n",
    "tdap_config['logging_config'] = logging_config\n",
    "\n",
    "use_named_ad_auth_to_mssql = False\n",
    "if use_named_ad_auth_to_mssql:\n",
    "    ad_user = input(\"Enter AD username: \")\n",
    "    ad_pass = input(\"Enter AD password: \")\n",
    "else:\n",
    "    ad_user = None\n",
    "    ad_pass = None\n",
    "\n",
    "# update tdap config with secrets\n",
    "tdap_config = inject_secrets_into_config(dotenv_file_path, tdap_config, dev_email, logger_name, mssql_ad_user=ad_user, mssql_ad_pass=ad_pass)\n",
    "# DONT print to screen again - secrets exist now"
   ]
  },
  {
   "cell_type": "markdown",
   "metadata": {},
   "source": [
    "## Initializing an instance of TDAP on OMOP"
   ]
  },
  {
   "cell_type": "code",
   "execution_count": null,
   "metadata": {},
   "outputs": [],
   "source": [
    "# what concepts, etc are configured\n",
    "print_concepts(tdap_config, print_or_log='print')\n",
    "print_extensions(tdap_config, print_or_log='print')\n",
    "print_cleanups(tdap_config, print_or_log='print')\n",
    "print_derivations(tdap_config, print_or_log='print')"
   ]
  },
  {
   "cell_type": "markdown",
   "metadata": {},
   "source": [
    "### Obtain a population to work with"
   ]
  },
  {
   "cell_type": "code",
   "execution_count": null,
   "metadata": {},
   "outputs": [],
   "source": [
    "pop_df = get_pop(tdap_config, logger_name)\n",
    "print(pop_df.shape)\n",
    "display(pop_df.head())"
   ]
  },
  {
   "cell_type": "code",
   "execution_count": null,
   "metadata": {},
   "outputs": [],
   "source": [
    "# create process df\n",
    "process_df = create_process_df(pop_df, logger_name)\n",
    "print(process_df.shape)\n",
    "display(process_df.head())"
   ]
  },
  {
   "cell_type": "code",
   "execution_count": null,
   "metadata": {},
   "outputs": [],
   "source": [
    "process_tuples = list(process_df.filter(['person_id','start_time_str','end_time_str','visit_occurrence_id_list','id_type']).to_records(index=False))\n",
    "print(len(process_tuples))\n",
    "print(process_tuples[0])\n",
    "\n",
    "run_args_tuple = (tdap_config,logger_name,'omop')\n",
    "process_tuples_final = [tuple(x) + run_args_tuple for x in process_tuples]\n",
    "\n",
    "print(len(process_tuples_final))\n",
    "print(process_tuples_final[:1])"
   ]
  },
  {
   "cell_type": "markdown",
   "metadata": {},
   "source": [
    "---\n",
    "\n",
    "### TDAP Initialization\n",
    "\n",
    "When TDAP is initialized, it creates a context for a unique patient and sets the start time, stop time, and sampling frequency between these two times.  It also:\n",
    "\n",
    "- captures patient demographic data\n",
    "- creates a template matrix to which data is attached as concepts, defined in the configuration file are iterated through and added to the matrix"
   ]
  },
  {
   "cell_type": "code",
   "execution_count": null,
   "metadata": {},
   "outputs": [],
   "source": [
    "# one_process_tuple = sample(process_tuples_final,1)[0]\n",
    "# data_manager = TDAPDataManagerOMOP(*one_process_tuple)\n",
    "# print(data_manager.pat_profile_dict.keys())\n",
    "# print(data_manager.pat_profile_dict['birth_datetime'])\n",
    "# print(len(data_manager.pat_profile_dict['visit_occurrence_id_list_chunked']))\n",
    "# print(data_manager.pat_profile_dict['visit_df'].shape)"
   ]
  },
  {
   "cell_type": "markdown",
   "metadata": {},
   "source": [
    "--- \n",
    "\n",
    "## Running TDAP\n",
    "\n",
    "We know initialization works, now will a full run complete and decorate everything with the conccepts, etc.."
   ]
  },
  {
   "cell_type": "code",
   "execution_count": null,
   "metadata": {},
   "outputs": [],
   "source": [
    "\"\"\"\n",
    "    Functions for serial and parallel processing\n",
    "    Side by side to demonstrate how easy it is to use either\n",
    "\"\"\"\n",
    "def get_matrix_serial(data_tuple_list):\n",
    "    ret_dicts = []\n",
    "    for one_tuple in tqdm(data_tuple_list):\n",
    "        ret = run_omop(*one_tuple)\n",
    "        ret_dicts.append(ret)\n",
    "    return ret_dicts\n",
    "\n",
    "def get_matrix_parallel(data_tuple_list):\n",
    "    with Pool(processes=4) as p:\n",
    "        ret_dicts = p.starmap(run_omop, data_tuple_list)\n",
    "    return ret_dicts"
   ]
  },
  {
   "cell_type": "code",
   "execution_count": null,
   "metadata": {},
   "outputs": [],
   "source": [
    "sample_size = 30\n",
    "results_serial = get_matrix_serial(sample(process_tuples_final,sample_size))\n",
    "print(len(results_serial))\n",
    "print(type(results_serial))\n",
    "print(type(results_serial[0]))"
   ]
  },
  {
   "cell_type": "code",
   "execution_count": null,
   "metadata": {},
   "outputs": [],
   "source": [
    "# one_result = results_serial[0]\n",
    "# print(one_result.keys())\n",
    "# print(one_result['pat_profile_dict'].keys())\n",
    "# print(one_result['matrix_df'].shape)\n",
    "# display(one_result['matrix_df'].head())"
   ]
  },
  {
   "cell_type": "code",
   "execution_count": null,
   "metadata": {},
   "outputs": [],
   "source": [
    "all_matrix_list = [x['matrix_df'] for x in results_serial]\n",
    "all_matrix_df = pd.concat(all_matrix_list)\n",
    "print(all_matrix_df.shape)\n",
    "display(all_matrix_df.head())"
   ]
  },
  {
   "cell_type": "code",
   "execution_count": null,
   "metadata": {},
   "outputs": [],
   "source": [
    "all_matrix_df.loc[all_matrix_df['testdx_native'] == 1].head(10)"
   ]
  },
  {
   "cell_type": "code",
   "execution_count": null,
   "metadata": {},
   "outputs": [],
   "source": [
    "all_matrix_df.loc[all_matrix_df['testrx_native'] == 1].head(10)"
   ]
  },
  {
   "cell_type": "code",
   "execution_count": null,
   "metadata": {},
   "outputs": [],
   "source": [
    "all_matrix_df.loc[all_matrix_df['testproc_native'] == 1].head(10)"
   ]
  },
  {
   "cell_type": "code",
   "execution_count": null,
   "metadata": {},
   "outputs": [],
   "source": [
    "all_matrix_df.loc[all_matrix_df['testobs_native'] == 1].head(10)"
   ]
  },
  {
   "cell_type": "code",
   "execution_count": null,
   "metadata": {},
   "outputs": [],
   "source": [
    "## NOTE: using process tuples final from above!\n",
    "## create a process df, then make the call to on of the get_matrix functions\n",
    "sample_size = 10\n",
    "results_parallel = get_matrix_parallel(sample(process_tuples_final,sample_size))\n",
    "\n",
    "print(len(results_parallel))\n",
    "print(type(results_parallel))\n",
    "print(type(results_parallel[0]))"
   ]
  },
  {
   "cell_type": "code",
   "execution_count": null,
   "metadata": {},
   "outputs": [],
   "source": [
    "one_result = results_parallel[0]\n",
    "print(one_result.keys())\n",
    "print(one_result['pat_profile_dict'].keys())\n",
    "print(one_result['matrix_df'].shape)\n",
    "display(one_result['matrix_df'].head())"
   ]
  },
  {
   "cell_type": "code",
   "execution_count": null,
   "metadata": {},
   "outputs": [],
   "source": [
    "one_result['matrix_df'].info()"
   ]
  },
  {
   "cell_type": "markdown",
   "metadata": {},
   "source": [
    "---\n",
    "## Deep dives below this point"
   ]
  },
  {
   "cell_type": "markdown",
   "metadata": {},
   "source": [
    "### OMOP tables"
   ]
  },
  {
   "cell_type": "code",
   "execution_count": null,
   "metadata": {},
   "outputs": [],
   "source": [
    "omop_engine = ucdripydbutils.get_engine_from_connect_dict(tdap_config['databases']['omop']['secret'])\n",
    "tab_name_wildcard = 'procedure_occurrence'\n",
    "table_data_sql = f\"\"\"select\n",
    "  schema_name(tab.schema_id) as schema_name,\n",
    "  tab.name as table_name,\n",
    "  col.column_id,\n",
    "  col.name as column_name,\n",
    "  col.max_length,\n",
    "  col.precision\n",
    "from\n",
    "  sys.tables as tab\n",
    "  inner join sys.columns as col on tab.object_id = col.object_id\n",
    "  left join sys.types as t on col.user_type_id = t.user_type_id\n",
    "where\n",
    "  schema_name(tab.schema_id) NOT IN ('sys')\n",
    "  and tab.name = '{tab_name_wildcard}'\"\"\"\n",
    "\n",
    "\n",
    "table_data = pd.read_sql(table_data_sql, omop_engine)\n",
    "omop_engine.dispose()\n",
    "table_cols = table_data['column_name'].tolist()\n",
    "display(table_data)\n",
    "\n",
    "print()\n",
    "for col in table_cols:\n",
    "    print(col+',')\n"
   ]
  },
  {
   "cell_type": "markdown",
   "metadata": {},
   "source": [
    "## OMOP Concepts"
   ]
  },
  {
   "cell_type": "code",
   "execution_count": null,
   "metadata": {},
   "outputs": [],
   "source": [
    "omop_engine = ucdripydbutils.get_engine_from_connect_dict(tdap_config['databases']['omop']['secret'])\n",
    "concept_id_list = [4353936]\n",
    "concept_sql = f\"\"\"\n",
    "select\n",
    "    *\n",
    "from\n",
    "    concept\n",
    "where\n",
    "    concept_id in ({\",\".join([str(x) for x in concept_id_list])})\n",
    "\"\"\"\n",
    "print(concept_sql)\n",
    "concept_df = pd.read_sql(concept_sql, omop_engine)\n",
    "omop_engine.dispose()\n",
    "display(concept_df)"
   ]
  },
  {
   "cell_type": "markdown",
   "metadata": {},
   "source": [
    "## OMOP Observation"
   ]
  },
  {
   "cell_type": "code",
   "execution_count": null,
   "metadata": {},
   "outputs": [],
   "source": [
    "omop_engine = ucdripydbutils.get_engine_from_connect_dict(tdap_config['databases']['omop']['secret'])\n",
    "observation_sql = f\"\"\"\n",
    "select top 10000\n",
    "    *\n",
    "from\n",
    "    observation\n",
    "\"\"\"\n",
    "print(observation_sql)\n",
    "observation_df = pd.read_sql(observation_sql, omop_engine)\n",
    "omop_engine.dispose()\n",
    "display(observation_df.head())"
   ]
  },
  {
   "cell_type": "code",
   "execution_count": null,
   "metadata": {},
   "outputs": [],
   "source": [
    "observation_df['observation_concept_id'].value_counts()"
   ]
  },
  {
   "cell_type": "markdown",
   "metadata": {},
   "source": [
    "## OMOP Procedure Occurrence"
   ]
  },
  {
   "cell_type": "code",
   "execution_count": null,
   "metadata": {},
   "outputs": [],
   "source": [
    "omop_engine = ucdripydbutils.get_engine_from_connect_dict(tdap_config['databases']['omop']['secret'])\n",
    "procedure_occurrence_sql = f\"\"\"\n",
    "select top 10000\n",
    "    *\n",
    "from\n",
    "    procedure_occurrence\n",
    "\"\"\"\n",
    "print(procedure_occurrence_sql)\n",
    "procedure_occurrence_df = pd.read_sql(procedure_occurrence_sql, omop_engine)\n",
    "omop_engine.dispose()\n",
    "display(procedure_occurrence_df.head())"
   ]
  },
  {
   "cell_type": "code",
   "execution_count": null,
   "metadata": {},
   "outputs": [],
   "source": [
    "procedure_occurrence_df['procedure_concept_id'].value_counts()"
   ]
  },
  {
   "cell_type": "markdown",
   "metadata": {},
   "source": [
    "## OMOP drug exposure"
   ]
  },
  {
   "cell_type": "code",
   "execution_count": null,
   "metadata": {},
   "outputs": [],
   "source": [
    "omop_engine = ucdripydbutils.get_engine_from_connect_dict(tdap_config['databases']['omop']['secret'])\n",
    "drug_exposure_sql = f\"\"\"\n",
    "select top 1000\n",
    "    *\n",
    "from\n",
    "    drug_exposure\n",
    "\"\"\"\n",
    "print(drug_exposure_sql)\n",
    "drug_exposure_df = pd.read_sql(drug_exposure_sql, omop_engine)\n",
    "omop_engine.dispose()\n",
    "display(drug_exposure_df.head())"
   ]
  },
  {
   "cell_type": "code",
   "execution_count": null,
   "metadata": {},
   "outputs": [],
   "source": [
    "drug_exposure_df['drug_concept_id'].value_counts()"
   ]
  },
  {
   "cell_type": "markdown",
   "metadata": {},
   "source": [
    "## OMOP condition Occurrence"
   ]
  },
  {
   "cell_type": "code",
   "execution_count": null,
   "metadata": {},
   "outputs": [],
   "source": [
    "condition_occurence_sql = f\"\"\"\n",
    "select top 10000\n",
    "    *\n",
    "from\n",
    "    condition_occurrence\"\"\"\n",
    "\n",
    "condition_occurence_df = pd.read_sql(condition_occurence_sql, omop_engine)\n",
    "print(condition_occurence_df.shape)\n",
    "display(condition_occurence_df.head())"
   ]
  },
  {
   "cell_type": "code",
   "execution_count": null,
   "metadata": {},
   "outputs": [],
   "source": [
    "condition_occurence_df['condition_concept_id'].value_counts()"
   ]
  },
  {
   "cell_type": "markdown",
   "metadata": {},
   "source": [
    "## OMOP Measurments"
   ]
  },
  {
   "cell_type": "code",
   "execution_count": null,
   "metadata": {},
   "outputs": [],
   "source": [
    "## Measurment sql\n",
    "\n",
    "\n",
    "# @TODO - inject concept ids of interest here\n",
    "omop_concept_ids = []\n",
    "\n",
    "\n",
    "measurement_sql = f\"\"\"\n",
    "select\n",
    "    measurement_id,\n",
    "    person_id,\n",
    "    measurement_concept_id,\n",
    "    measurement_concept.concept_name as measurement_concept_name,\n",
    "    measurement_date,\n",
    "    measurement_datetime,\n",
    "    measurement_time,\n",
    "    measurement_type_concept_id,\n",
    "    measurement_type_concept.concept_name as measurement_type_concept_name,\n",
    "    operator_concept_id,\n",
    "    operator_concept.concept_name as operator_concept_name,\n",
    "    value_as_number,\n",
    "    value_as_concept_id,\n",
    "    value_as_concept.concept_name as value_as_concept_name,\n",
    "    unit_concept_id,\n",
    "    range_low,\n",
    "    range_high,\n",
    "    provider_id,\n",
    "    visit_occurrence_id,\n",
    "    visit_detail_id,\n",
    "    measurement_source_value,\n",
    "    measurement_source_concept_id,\n",
    "    measurement_source_concept.concept_name as measurement_source_concept_name,\n",
    "    unit_source_value,\n",
    "    unit_source_concept_id,\n",
    "    unit_source_concept.concept_name as unit_source_concept_name,\n",
    "    value_source_value,\n",
    "    measurement_event_id,\n",
    "    meas_event_field_concept_id,\n",
    "    meas_event_field_concept.concept_name as meas_event_field_concept_name\n",
    "from\n",
    "    measurement\n",
    "    left join concept as measurement_concept on measurement.measurement_concept_id = measurement_concept.concept_id\n",
    "    left join concept as unit_concept on measurement.unit_concept_id = unit_concept.concept_id\n",
    "    left join concept as value_as_concept on measurement.value_as_concept_id = value_as_concept.concept_id\n",
    "    left join concept as measurement_source_concept on measurement.measurement_source_concept_id = measurement_source_concept.concept_id\n",
    "    left join concept as unit_source_concept on measurement.unit_source_concept_id = unit_source_concept.concept_id\n",
    "    left join concept as meas_event_field_concept on measurement.meas_event_field_concept_id = meas_event_field_concept.concept_id\n",
    "    left join concept as measurement_type_concept on measurement.measurement_type_concept_id = measurement_type_concept.concept_id\n",
    "    left join concept as operator_concept on measurement.operator_concept_id = operator_concept.concept_id\n",
    "where\n",
    "    measurement_concept_id in ({\",\".join([str(x) for x in omop_concept_ids])})\n",
    "\"\"\"\n",
    "omop_engine = ucdripydbutils.get_engine_from_connect_dict(tdap_config['databases']['omop']['secret'])\n",
    "measurement_df = pd.read_sql(measurement_sql, omop_engine)\n",
    "omop_engine.dispose()\n",
    "print(measurement_df.shape)\n",
    "display(measurement_df.head())"
   ]
  },
  {
   "cell_type": "code",
   "execution_count": null,
   "metadata": {},
   "outputs": [],
   "source": [
    "## Measurment sql\n",
    "vo_id_list = [71869663,70750183,71833551]\n",
    "measurement_sql = f\"\"\"\n",
    "select\n",
    "    measurement_id,   \n",
    "    measurement_datetime,\n",
    "    operator_concept_id,\n",
    "    operator_concept.concept_name as operator_concept_name,\n",
    "    value_as_number,\n",
    "    value_as_concept_id,\n",
    "    value_as_concept.concept_name as value_as_concept_name,\n",
    "    unit_concept_id,\n",
    "    unit_concept.concept_name as unit_concept_name,\n",
    "    range_low,\n",
    "    range_high,    \n",
    "    unit_source_value,\n",
    "    value_source_value\n",
    "from\n",
    "    measurement\n",
    "    left join concept as measurement_concept on measurement.measurement_concept_id = measurement_concept.concept_id\n",
    "    left join concept as unit_concept on measurement.unit_concept_id = unit_concept.concept_id\n",
    "    left join concept as value_as_concept on measurement.value_as_concept_id = value_as_concept.concept_id\n",
    "    left join concept as measurement_source_concept on measurement.measurement_source_concept_id = measurement_source_concept.concept_id\n",
    "    left join concept as unit_source_concept on measurement.unit_source_concept_id = unit_source_concept.concept_id\n",
    "    left join concept as meas_event_field_concept on measurement.meas_event_field_concept_id = meas_event_field_concept.concept_id\n",
    "    left join concept as measurement_type_concept on measurement.measurement_type_concept_id = measurement_type_concept.concept_id\n",
    "    left join concept as operator_concept on measurement.operator_concept_id = operator_concept.concept_id\n",
    "where\n",
    "    measurement_concept_id in ({\",\".join([str(x) for x in omop_concept_ids])})\n",
    "    and visit_occurrence_id in ({\",\".join([str(x) for x in vo_id_list])})\n",
    "\"\"\"\n",
    "omop_engine = ucdripydbutils.get_engine_from_connect_dict(tdap_config['databases']['omop']['secret'])\n",
    "measurement_df = pd.read_sql(measurement_sql, omop_engine)\n",
    "omop_engine.dispose()\n",
    "print(measurement_df.shape)\n",
    "display(measurement_df.head())"
   ]
  },
  {
   "cell_type": "markdown",
   "metadata": {},
   "source": [
    "## Table Data"
   ]
  },
  {
   "cell_type": "code",
   "execution_count": null,
   "metadata": {},
   "outputs": [],
   "source": []
  },
  {
   "cell_type": "markdown",
   "metadata": {},
   "source": [
    "## Person Data"
   ]
  },
  {
   "cell_type": "code",
   "execution_count": null,
   "metadata": {},
   "outputs": [],
   "source": [
    "one_person_id = int(input(\"Enter a person_id: \"))\n",
    "start_time = datetime(2023, 1, 1)\n",
    "end_time = datetime(2024, 1, 1)\n",
    "omop_engine = ucdripydbutils.get_engine_from_connect_dict(tdap_config['databases']['omop']['secret'])\n",
    "person_sql=f\"\"\"\n",
    "        select\n",
    "            person_id,\n",
    "            birth_datetime,\n",
    "            person_source_value as pat_mrn_id,\n",
    "            gender_source_value as gender,\n",
    "            race_source_value as race,\n",
    "            ethnicity_source_value as ethnicity\n",
    "        from\n",
    "            person\n",
    "        where\n",
    "            person.person_id = {one_person_id}\n",
    "    \"\"\"\n",
    "person_df = pd.read_sql(person_sql, omop_engine)\n",
    "omop_engine.dispose()\n",
    "\n",
    "if not person_df.empty:\n",
    "    pat_dict = person_df.to_dict(orient='records')[0]\n",
    "    pat_dict[\"person_id\"] = one_person_id\n",
    "    # derive some age columns\n",
    "    age_at_start = relativedelta(start_time, pat_dict.get('birth_datetime'))\n",
    "    age_at_end = relativedelta(end_time, pat_dict.get('birth_datetime'))\n",
    "    pat_dict[\"age_at_start_delta\"] = age_at_start\n",
    "    pat_dict[\"age_at_start_years\"] = age_at_start.years\n",
    "    pat_dict[\"age_at_end_delta\"] = age_at_end\n",
    "    pat_dict[\"age_at_end_years\"] = age_at_end.years\n",
    "    \n",
    "else:\n",
    "    # create empty dict with the correct keys\n",
    "    logger.warning(f\"Patient data dict for this record was empty for pat_id = {self.pat_id}\")\n",
    "    empty_pat_dict = {\"person_id\":None,\n",
    "                        \"pat_mrn_id\":None,\n",
    "                        \"gender\":None,\n",
    "                        \"age_at_start_delta\":None,\n",
    "                        \"age_at_start_years\":None,\n",
    "                        \"age_at_end_delta\":None,\n",
    "                        \"age_at_end_years\":None}\n",
    "    pat_dict = empty_pat_dict\n",
    "\n",
    "# establish pat info metadata\n",
    "pat_profile_metadata = {\n",
    "    \"person_id\":types.NVARCHAR(20),\n",
    "    \"pat_mrn_id\":types.NVARCHAR(20),\n",
    "    \"gender\":types.NVARCHAR(5),\n",
    "    \"birth_datetime\": types.DateTime(),\n",
    "    \"age_at_start_years\": types.NUMERIC(precision=5, scale=2),\n",
    "    \"age_at_end_years\": types.NUMERIC(precision=5, scale=2)\n",
    "}\n",
    "\n",
    "pat_dict"
   ]
  },
  {
   "cell_type": "markdown",
   "metadata": {},
   "source": [
    "## Visit Data\n",
    "\n",
    "Two tables:\n",
    "\n",
    "1. Visit Occurrence - This table contains Events where Persons engage with the healthcare system for a duration of time. They are often also called �Encounters�. Visits are defined by a configuration of circumstances under which they occur, such as (i) whether the patient comes to a healthcare institution, the other way around, or the interaction is remote, (ii) whether and what kind of trained medical staff is delivering the service during the Visit, and (iii) whether the Visit is transient or for a longer period involving a stay in bed.\n",
    "1. Visit Detail - this table is technically optional and is a child table of VO.  Example VO indicates a hosiptal stay, while visit detail may reflect durations in each department or maybe each duration of Attending coverage\n",
    "\n",
    "> Coclusion - Consider making the visit detail data an 'extension' but it will not be used for the primary purpose of boudning when a patient is interacting with a health system.  That data is contained within VO, which we will use as the primary source of encounter information extraction from OMOP"
   ]
  },
  {
   "cell_type": "code",
   "execution_count": null,
   "metadata": {},
   "outputs": [],
   "source": [
    "omop_engine = ucdripydbutils.get_engine_from_connect_dict(tdap_config['databases']['omop']['secret'])\n",
    "omop_visit_occurrence_sql = f\"\"\"\n",
    "select\n",
    "    visit_occurrence_id,\n",
    "    person_id,\n",
    "    visit_concept_id,\n",
    "    visit_concept.concept_name as visit_concept_name,\n",
    "    visit_start_date,\n",
    "    visit_start_datetime,\n",
    "    visit_end_date,\n",
    "    visit_end_datetime,\n",
    "    visit_type_concept_id,\n",
    "    visit_type_concept.concept_name as visit_type_concept_name,\n",
    "    vo.provider_id,\n",
    "    provider.provider_name,\n",
    "    vo.care_site_id,\n",
    "    care_site.care_site_name,\n",
    "    visit_source_value,\n",
    "    visit_source_concept_id,\n",
    "    visit_source_concept.concept_name as visit_source_concept_name,\n",
    "    admitting_source_concept_id,\n",
    "    admitting_source_concept.concept_name as admitting_source_concept_name,\n",
    "    admitting_source_value,\n",
    "    discharge_to_concept_id,\n",
    "    discharge_to_concept.concept_name as discharge_to_concept_name,\n",
    "    discharge_to_source_value,\n",
    "    preceding_visit_occurrence_id\n",
    "from\n",
    "    visit_occurrence vo\n",
    "    left join concept visit_concept on vo.visit_concept_id = visit_concept.concept_id\n",
    "    left join concept visit_type_concept on vo.visit_type_concept_id = visit_type_concept.concept_id\n",
    "    left join concept discharge_to_concept on vo.discharge_to_concept_id = discharge_to_concept.concept_id\n",
    "    left join concept admitting_source_concept on vo.admitting_source_concept_id = admitting_source_concept.concept_id\n",
    "    left join concept visit_source_concept on vo.visit_source_concept_id = visit_source_concept.concept_id\n",
    "    left join provider on vo.provider_id = provider.provider_id\n",
    "    left join care_site on vo.care_site_id = care_site.care_site_id\n",
    "where\n",
    "    vo.visit_start_datetime >= '{start_time}'\n",
    "    and vo.visit_end_datetime <= '{end_time}'\n",
    "    -- and vo.person_id = {one_person_id}\n",
    "\"\"\"\n",
    "omop_visit_occurrence_df = pd.read_sql(omop_visit_occurrence_sql, omop_engine)\n",
    "omop_engine.dispose()\n",
    "print(omop_visit_occurrence_df.shape)\n",
    "display(omop_visit_occurrence_df.head())"
   ]
  },
  {
   "cell_type": "markdown",
   "metadata": {},
   "source": [
    "#### Visit Detail Deep Dive"
   ]
  },
  {
   "cell_type": "code",
   "execution_count": null,
   "metadata": {},
   "outputs": [],
   "source": [
    "# step 1, find a visit occurence(s) that have many detail rows and inspect different axes of breakout\n",
    "omop_engine = ucdripydbutils.get_engine_from_connect_dict(tdap_config['databases']['omop']['secret'])\n",
    "visit_detail_sql = f\"\"\"\n",
    "select\n",
    "    visit_detail_id,\n",
    "    person_id,\n",
    "    visit_detail_concept_id,\n",
    "    visit_detail_concept.concept_name as visit_detail_concept_name,\n",
    "    visit_detail_start_date,\n",
    "    visit_detail_start_datetime,\n",
    "    visit_detail_end_date,\n",
    "    visit_detail_end_datetime,\n",
    "    visit_detail_type_concept_id,\n",
    "    visit_detail_type_concept.concept_name as visit_detail_type_concept_name,\n",
    "    provider_id,\n",
    "    care_site_id,\n",
    "    admitting_source_concept_id,\n",
    "    admitting_source_concept.concept_name as admitting_source_concept_name,\n",
    "    discharge_to_concept_id,\n",
    "    discharge_to_concept.concept_name as discharge_to_concept_name,\n",
    "    preceding_visit_detail_id,\n",
    "    visit_detail_source_value,\n",
    "    visit_detail_source_concept_id,\n",
    "    visit_detail_source_concept.concept_name as visit_detail_source_concept_name,\n",
    "    admitting_source_value,\n",
    "    discharge_to_source_value,\n",
    "    visit_detail_parent_id,\n",
    "    visit_occurrence_id\n",
    "from\n",
    "    visit_detail\n",
    "    left join concept visit_detail_concept on visit_detail.visit_detail_concept_id = visit_detail_concept.concept_id\n",
    "    left join concept visit_detail_type_concept on visit_detail.visit_detail_type_concept_id = visit_detail_type_concept.concept_id\n",
    "    left join concept admitting_source_concept on visit_detail.admitting_source_concept_id = admitting_source_concept.concept_id\n",
    "    left join concept discharge_to_concept on visit_detail.discharge_to_concept_id = discharge_to_concept.concept_id\n",
    "    left join concept visit_detail_source_concept on visit_detail.visit_detail_source_concept_id = visit_detail_source_concept.concept_id\n",
    "where\n",
    "    visit_detail_start_datetime >= '{start_time}'\n",
    "    and visit_detail_end_datetime <= '{end_time}'\n",
    "\"\"\"\n",
    "omop_visit_detail_df = pd.read_sql(visit_detail_sql, omop_engine)\n",
    "omop_engine.dispose()\n",
    "print(omop_visit_detail_df.shape)\n",
    "display(omop_visit_detail_df.head())\n",
    "\n",
    "# grab the top N visit_occurrence_ids\n",
    "omop_visits_with_detail_df = omop_visit_detail_df['visit_occurrence_id'].value_counts().to_frame().reset_index().sort_values('count', ascending=False).head(20).copy()\n",
    "display(omop_visits_with_detail_df)\n",
    "vo_ids_w_detail = omop_visits_with_detail_df['visit_occurrence_id'].tolist()\n",
    "print(len(vo_ids_w_detail))"
   ]
  },
  {
   "cell_type": "code",
   "execution_count": null,
   "metadata": {},
   "outputs": [],
   "source": [
    "one_random_vo_id = sample(vo_ids_w_detail, 1)[0]\n",
    "print(one_random_vo_id)\n",
    "\n",
    "print(\"The Visit Occurrence: \")\n",
    "display(omop_visit_occurrence_df.loc[omop_visit_occurrence_df['visit_occurrence_id'] == one_random_vo_id])\n",
    "print()\n",
    "print(\"The Visit Details: \")\n",
    "(omop_visit_detail_df.loc[omop_visit_detail_df['visit_occurrence_id'] == one_random_vo_id]\n",
    "                    .sort_values(by=['visit_detail_start_datetime']))\n"
   ]
  },
  {
   "cell_type": "code",
   "execution_count": null,
   "metadata": {},
   "outputs": [],
   "source": [
    "## what does visit detail source value point to back in Clarity?  Its either a CSN or an ADT event...\n",
    "## Its neither.  Its OR events - confirmed by looking at OMOP SQL\n",
    "## These return data but, its purely accidental\n",
    "one_visit_detail_source_value = omop_visit_detail_df['visit_detail_source_value'].sample(1).values[0]\n",
    "print(one_visit_detail_source_value)\n",
    "clarity_engine = ucdripydbutils.get_engine_from_connect_dict(tdap_config['databases']['clarity']['secret'])\n",
    "clarity_enc_sql = f\"\"\"select * from pat_enc where pat_enc_csn_id = {one_visit_detail_source_value}\"\"\"\n",
    "enc_df = pd.read_sql(clarity_enc_sql, clarity_engine)\n",
    "display(enc_df)\n",
    "adt_sql = f\"\"\"select * from clarity_adt where event_id = {one_visit_detail_source_value}\"\"\"\n",
    "adt_df = pd.read_sql(adt_sql, clarity_engine)\n",
    "display(adt_df)\n"
   ]
  }
 ],
 "metadata": {
  "kernelspec": {
   "display_name": "Python 3",
   "language": "python",
   "name": "python3"
  },
  "language_info": {
   "codemirror_mode": {
    "name": "ipython",
    "version": 3
   },
   "file_extension": ".py",
   "mimetype": "text/x-python",
   "name": "python",
   "nbconvert_exporter": "python",
   "pygments_lexer": "ipython3",
   "version": "3.10.12"
  }
 },
 "nbformat": 4,
 "nbformat_minor": 2
}
